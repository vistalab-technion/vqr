{
 "cells": [
  {
   "cell_type": "code",
   "execution_count": null,
   "metadata": {
    "pycharm": {
     "is_executing": true
    }
   },
   "outputs": [],
   "source": [
    "import os\n",
    "import sys\n",
    "if \"..\" not in sys.path:\n",
    "    sys.path.append(\"..\")\n",
    "    \n",
    "IN_PYTEST = \"PYTEST_CURRENT_TEST\" in os.environ"
   ]
  },
  {
   "cell_type": "code",
   "execution_count": null,
   "metadata": {
    "jupyter": {
     "outputs_hidden": false
    }
   },
   "outputs": [],
   "source": [
    "import matplotlib.pyplot as plt\n",
    "import matplotlib as mpl\n",
    "import os\n",
    "\n",
    "os.makedirs(\"figs/fig1\", exist_ok=True)\n",
    "\n",
    "import numpy as np\n",
    "\n",
    "from experiments.datasets.shapes import generate_heart, generate_star\n",
    "from experiments.datasets.shapes import HeartDataProvider, StarDataProvider\n",
    "\n",
    "from experiments import EXPERIMENTS_DATA_DIR\n",
    "HEART_IMG = EXPERIMENTS_DATA_DIR / \"heart.png\"\n",
    "\n",
    "mpl.rcParams['font.size'] = 14\n"
   ]
  },
  {
   "cell_type": "code",
   "execution_count": null,
   "metadata": {},
   "outputs": [],
   "source": []
  },
  {
   "cell_type": "code",
   "execution_count": null,
   "metadata": {
    "jupyter": {
     "outputs_hidden": false
    }
   },
   "outputs": [],
   "source": []
  },
  {
   "cell_type": "markdown",
   "metadata": {},
   "source": [
    "## Shape datasets"
   ]
  },
  {
   "cell_type": "code",
   "execution_count": null,
   "metadata": {
    "jupyter": {
     "outputs_hidden": false
    }
   },
   "outputs": [],
   "source": [
    "heart_dp = HeartDataProvider(initial_rotation_deg=90, noise_std=0.01, x_max_deg=10,\n",
    "                             x_discrete=True)\n",
    "\n",
    "X, Y = heart_dp.sample(n=10000, x=10)\n",
    "\n",
    "fig = plt.figure(figsize=(8, 8))\n",
    "plt.scatter(Y[:, 0], Y[:, 1])"
   ]
  },
  {
   "cell_type": "code",
   "execution_count": null,
   "metadata": {
    "jupyter": {
     "outputs_hidden": false
    }
   },
   "outputs": [],
   "source": [
    "star_dp = StarDataProvider(initial_rotation_deg=0, noise_std=0.01, x_discrete=True,)\n",
    "\n",
    "X, Y = star_dp.sample(n=1000, x=20)\n",
    "\n",
    "fig = plt.figure(figsize=(8, 8))\n",
    "plt.scatter(Y[:, 0], Y[:, 1])"
   ]
  },
  {
   "cell_type": "markdown",
   "metadata": {},
   "source": [
    "## Fitting VQE"
   ]
  },
  {
   "cell_type": "code",
   "execution_count": null,
   "metadata": {
    "jupyter": {
     "outputs_hidden": false
    }
   },
   "outputs": [],
   "source": [
    "from vqr import VectorQuantileEstimator\n",
    "from vqr.plot import plot_quantiles,plot_quantiles_3d\n",
    "from vqr.cvqf import check_comonotonicity\n",
    "\n",
    "star_dp = StarDataProvider(initial_rotation_deg=90, noise_std=0.01, x_max_deg=20, x_discrete=True)\n",
    "\n",
    "_, Y_star = star_dp.sample(n=10000, x=0)\n",
    "\n",
    "fig, ax = plt.subplots(1,1,figsize=(8, 8))\n",
    "ax.scatter(Y_star[:, 0], Y_star[:, 1])"
   ]
  },
  {
   "cell_type": "code",
   "execution_count": null,
   "metadata": {
    "jupyter": {
     "outputs_hidden": false
    }
   },
   "outputs": [],
   "source": [
    "\n",
    "solver = \"vqe_pot\"\n",
    "solver_opts = {'numItermax': int(2e6)}\n",
    "\n",
    "# solver = \"regularized_dual\"\n",
    "# solver_opts = {'epsilon': 1e-5, \"verbose\": True}\n",
    "\n",
    "T = 50\n",
    "vq2 = VectorQuantileEstimator(\n",
    "    solver=solver,\n",
    "    solver_opts=dict(**solver_opts, T=T)\n",
    ")\n",
    "vq2.fit(Y_star)\n"
   ]
  },
  {
   "cell_type": "markdown",
   "metadata": {},
   "source": [
    "## Vector Quantile Contours\n",
    "\n",
    "\n",
    "An $\\alpha$-contour contains $100\\cdot(1-2\\alpha)^d$ percent of the data and can be\n",
    "seen as the vector quantile equivalent of a confidence interval.\n",
    "\n",
    "Each point on these contours is the value of a vector quantile, i.e. $Q_{Y}(\\mathbf{u})\n",
    "$ for some $\\mathbf{u}$."
   ]
  },
  {
   "cell_type": "code",
   "execution_count": null,
   "metadata": {
    "jupyter": {
     "outputs_hidden": false
    }
   },
   "outputs": [],
   "source": [
    "from vqr.plot import plot_contour_2d\n",
    "from vqr.cvqf import check_comonotonicity\n",
    "\n",
    "alphas = [0.02, 0.1, 0.2, 0.3, 0.4]\n",
    "refines = [True]\n",
    "xylim = [-.5,.5]\n",
    "\n",
    "fig, axes = plt.subplots(1, len(refines), figsize=(10*len(refines), 10), squeeze=False)\n",
    "\n",
    "for i, (ax, refine) in enumerate(zip(axes.reshape(-1), refines)):\n",
    "    Qs = list(vq2.vector_quantiles(refine=refine))\n",
    "    Us = vq2.quantile_grid\n",
    "\n",
    "    plot_contour_2d(\n",
    "        Qs=Qs, alphas=alphas, ax=ax, Y=Y_star,\n",
    "    )\n",
    "    # ax.set_title(f\"{refine=}\")\n",
    "    ax.set_xlim(xylim); ax.set_ylim(xylim)\n",
    "    ax.set_xlabel(\"$y_1$\"); ax.set_ylabel(\"$y_2$\");\n",
    "\n",
    "    violations = check_comonotonicity(Qs=Qs, Us=Us) < 0\n",
    "    print(f\"violations ({refine=}): {np.sum(violations) / np.prod(violations.shape)}\")\n",
    "\n",
    "fig.savefig(\"figs/fig1/fig1a.png\", dpi=150, bbox_inches=\"tight\")\n"
   ]
  },
  {
   "cell_type": "code",
   "execution_count": null,
   "metadata": {
    "jupyter": {
     "outputs_hidden": false
    }
   },
   "outputs": [],
   "source": []
  },
  {
   "cell_type": "markdown",
   "metadata": {
    "tags": []
   },
   "source": [
    "## Vector Quantile Component Surfaces\n",
    "\n",
    "Each surface represents a component of the vector quantile function.\n",
    "On Q1, walking along u1 with a fixed u2 yields a monotonically increasing quantile\n",
    "curve, and vice versa for Q2."
   ]
  },
  {
   "cell_type": "code",
   "execution_count": null,
   "metadata": {
    "jupyter": {
     "outputs_hidden": false
    }
   },
   "outputs": [],
   "source": [
    "from vqr.plot import plot_quantiles_3d\n",
    "\n",
    "from vqr.cvqf import quantile_contour\n",
    "\n",
    "Qs=vq2.vector_quantiles(refine=True)\n",
    "Us=vq2.quantile_grid\n",
    "\n",
    "fig, axes = plot_quantiles_3d(\n",
    "    Qs=Qs,\n",
    "    Us=Us,\n",
    "    figsize=(25, 20),\n",
    "    colorbar=False,\n",
    "    alpha=0.5,\n",
    "    cmap=\"viridis\",\n",
    ")\n",
    "\n",
    "# Plot contours on the 3d surface\n",
    "for alpha in alphas:\n",
    "    QC_Qvals, QC_idx = quantile_contour(Qs=Qs, alpha=alpha)\n",
    "    QC_Uvals = np.array([(Us[0][u1,u2], Us[1][u1,u2]) for (u1, u2) in QC_idx])\n",
    "    axes[0].scatter3D(xs=QC_Uvals[:,0], ys=QC_Uvals[:,1], zs=QC_Qvals[:,0],zorder=10)\n",
    "    axes[1].scatter3D(xs=QC_Uvals[:,0], ys=QC_Uvals[:,1], zs=QC_Qvals[:,1],zorder=10)\n",
    "\n",
    "\n",
    "axes[0].view_init(axes[0].elev, -150)\n",
    "\n",
    "fig.savefig(\"figs/fig1/fig1b.png\", dpi=150, bbox_inches=\"tight\")\n"
   ]
  },
  {
   "cell_type": "code",
   "execution_count": null,
   "metadata": {
    "jupyter": {
     "outputs_hidden": false
    }
   },
   "outputs": [],
   "source": []
  },
  {
   "cell_type": "markdown",
   "metadata": {},
   "source": [
    "## Conditional quantiles\n",
    "\n",
    "Here quantiles function of the data depend nonlinearly on $x$: the distribution of\n",
    "$Y|X=x$ is the distribution of $Y$ rotated by $x$ degrees.\n",
    "We show contours of different CVQFs, i.e. given different values of $x$."
   ]
  },
  {
   "cell_type": "code",
   "execution_count": null,
   "metadata": {
    "jupyter": {
     "outputs_hidden": false
    }
   },
   "outputs": [],
   "source": [
    "\n",
    "X = np.array([[10], [25], [40]])\n",
    "\n",
    "fig, ax = plt.subplots(1, 1, figsize=(10, 10), squeeze=True)\n",
    "xylim = [-.5,.5]\n",
    "\n",
    "for i, x in enumerate(X):\n",
    "    _, Y_star = star_dp.sample(n=10000, x=x)\n",
    "\n",
    "    # Using VQE per x instead of VQR on all the data since it's faster and it's just\n",
    "    # used for the plot.\n",
    "    vq2 = VectorQuantileEstimator(\n",
    "        solver=solver,\n",
    "        solver_opts=dict(**solver_opts, T=T),\n",
    "    )\n",
    "    vq2.fit(Y_star)\n",
    "\n",
    "    plot_contour_2d(\n",
    "        Qs=vq2.vector_quantiles(), alphas=(0.02, 0.22), ax=ax,\n",
    "        alpha_labels=(f'$x$={x.item():.1f}',''),\n",
    "        alpha_colors=(f'C{i}',f\"C{i}\")\n",
    "    )\n",
    "    ax.set_xlim(xylim); ax.set_ylim(xylim)\n",
    "    ax.set_xlabel(\"$y_1$\"); ax.set_ylabel(\"$y_2$\");\n",
    "\n",
    "fig.savefig(\"figs/fig1/fig1c.png\", dpi=150, bbox_inches=\"tight\")\n"
   ]
  },
  {
   "cell_type": "code",
   "execution_count": null,
   "metadata": {},
   "outputs": [],
   "source": []
  }
 ],
 "metadata": {
  "kernelspec": {
   "display_name": "",
   "language": "python",
   "name": ""
  },
  "language_info": {
   "codemirror_mode": {
    "name": "ipython",
    "version": 3
   },
   "file_extension": ".py",
   "mimetype": "text/x-python",
   "name": "python",
   "nbconvert_exporter": "python",
   "pygments_lexer": "ipython3",
   "version": "3.9.15"
  }
 },
 "nbformat": 4,
 "nbformat_minor": 4
}
