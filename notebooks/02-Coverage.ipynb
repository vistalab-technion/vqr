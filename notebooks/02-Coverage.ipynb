{
 "cells": [
  {
   "cell_type": "code",
   "execution_count": 1,
   "id": "95c64d37-ab7c-4016-9846-b2609231ce90",
   "metadata": {},
   "outputs": [],
   "source": [
    "import numpy as np\n",
    "import matplotlib.pyplot as plt\n",
    "import cvxpy as cp\n",
    "import pylab as pl\n",
    "from vqr.data import generate_mvn_data, generate_heart, generate_star\n",
    "\n",
    "d = 2\n",
    "n = 2000\n",
    "T = 50\n",
    "\n",
    "dataset = 'star'\n",
    "\n",
    "if dataset == 'mvn':\n",
    "    X, Y = generate_mvn_data(n=n, d=d, k=0)\n",
    "elif dataset == 'heart':\n",
    "    X, Y = generate_heart()\n",
    "elif dataset == 'star':\n",
    "    X, Y = generate_star()\n",
    "else:\n",
    "    X, Y = None, None\n",
    "    NotImplementedError(\"Unrecognized dataset.\")"
   ]
  },
  {
   "cell_type": "code",
   "execution_count": 2,
   "id": "faed9146-b84c-4250-a8c9-cbf80b082b6a",
   "metadata": {},
   "outputs": [
    {
     "data": {
      "image/png": "[encoded data removed]",
      "text/plain": [
       "<Figure size 576x576 with 1 Axes>"
      ]
     },
     "metadata": {
      "needs_background": "light"
     },
     "output_type": "display_data"
    }
   ],
   "source": [
    "fig = plt.figure(figsize=(8, 8))\n",
    "plt.scatter(Y[:, 0], Y[:, 1])\n",
    "# _ = plt.title(\"Y\")\n",
    "plt.tight_layout()\n",
    "fig.savefig(f\"{dataset}_Y.png\")"
   ]
  },
  {
   "cell_type": "code",
   "execution_count": null,
   "id": "3e8f864e-95d0-4f65-8c76-f019b8784056",
   "metadata": {
    "pycharm": {
     "is_executing": true
    }
   },
   "outputs": [],
   "source": [
    "from vqr.api import VectorQuantileEstimator\n",
    "\n",
    "T = 50\n",
    "vqe = VectorQuantileEstimator(T)\n",
    "fitted_vqe = vqe.fit(Y)"
   ]
  },
  {
   "cell_type": "code",
   "execution_count": null,
   "id": "16707c56-04c4-410f-8d41-690eed6b9830",
   "metadata": {
    "pycharm": {
     "is_executing": true
    }
   },
   "outputs": [],
   "source": [
    "fig = fitted_vqe.plot_quantiles(figsize=(20, 20), surf_2d=True)\n",
    "plt.tight_layout()\n",
    "fig.savefig(f\"{dataset}_quantile_surfaces_plot.png\")"
   ]
  },
  {
   "cell_type": "code",
   "execution_count": null,
   "id": "6d1bd682-25a1-429e-b355-da7dc43f35d6",
   "metadata": {},
   "outputs": [],
   "source": [
    "Q1, Q2 = vqe.vector_quantiles()\n",
    "q_10_90 = [Q1[ 1, -2], Q2[ 1, -2]]\n",
    "q_90_90 = [Q1[-2, -2], Q2[-2, -2]]\n",
    "q_90_10 = [Q1[-2,  1], Q2[-2,  1]]\n",
    "q_10_10 = [Q1[ 1,  1], Q2[ 1,  1]]\n",
    "\n",
    "fig = plt.figure(figsize=(8, 8))\n",
    "plt.scatter(Y[:, 0], Y[:, 1])\n",
    "plt.scatter(q_10_90[0], q_10_90[1], alpha=.5, color='k', s=200, marker='v')\n",
    "plt.scatter(q_90_90[0], q_90_90[1], alpha=.5, color='k', s=200, marker='v')\n",
    "plt.scatter(q_90_10[0], q_90_10[1], alpha=.5, color='k', s=200, marker='v')\n",
    "_ = plt.scatter(q_10_10[0], q_10_10[1], alpha=.5, color='k', s=200, marker='v')\n",
    "plt.tight_layout()\n",
    "fig.savefig(f\"{dataset}_vector_quantiles_on_Y.png\")"
   ]
  },
  {
   "cell_type": "code",
   "execution_count": null,
   "id": "8e242629-844c-477d-ac8d-e113a86d5ca8",
   "metadata": {},
   "outputs": [],
   "source": [
    "from scipy.spatial import ConvexHull\n",
    "\n",
    "surface = np.array(\n",
    "    [\n",
    "        [*Q1[1:-2, -2], *Q1[1, 1:-2], *Q1[1:-2, 1], *Q1[-2, 1:-2]],\n",
    "        [*Q2[1:-2, -2], *Q2[1, 1:-2], *Q2[1:-2, 1], *Q2[-2, 1:-2]]\n",
    "    ]\n",
    ").T\n",
    "\n",
    "def point_in_hull(point, hull, tolerance=1e-12):\n",
    "    return all(\n",
    "        (np.dot(eq[:-1], point) + eq[-1] <= tolerance)\n",
    "        for eq in hull.equations)\n",
    "\n",
    "selected_Y = surface\n",
    "hull = ConvexHull(selected_Y)\n",
    "\n",
    "fig = plt.figure(figsize=(8, 8))\n",
    "for simplex in hull.simplices:\n",
    "    plt.plot(selected_Y[simplex, 0], selected_Y[simplex, 1])\n",
    "    \n",
    "plt.scatter(*selected_Y.T, alpha=.5, color='k', s=200, marker='v')\n",
    "\n",
    "coverage = []\n",
    "for p in Y:\n",
    "    point_is_in_hull = point_in_hull(p, hull)\n",
    "    coverage.append(point_is_in_hull)\n",
    "    marker = 'x' if point_is_in_hull else 'd'\n",
    "    color = 'g' if point_is_in_hull else 'm'\n",
    "    plt.scatter(p[0], p[1], marker=marker, color=color)\n",
    "plt.tight_layout()\n",
    "fig.savefig(f\"{dataset}_Y_inliers_outliers_vector.png\")"
   ]
  },
  {
   "cell_type": "code",
   "execution_count": null,
   "id": "f9171264-4c15-4a48-959f-89d8c52d79a7",
   "metadata": {},
   "outputs": [],
   "source": [
    "coverage_final = (sum(coverage)/len(coverage))*100\n",
    "print(f\"Coverage for vector quantiles: {coverage_final}.\")"
   ]
  },
  {
   "cell_type": "code",
   "execution_count": null,
   "id": "58bd02e3-1d75-4c21-b75d-af1f03525b44",
   "metadata": {},
   "outputs": [],
   "source": [
    "from vqr.api import ScalarQuantileEstimator\n",
    "sqe = ScalarQuantileEstimator(T)\n",
    "fitted_sqe = sqe.fit(Y)\n",
    "Q = fitted_sqe.vector_quantiles()\n",
    "Q1_sep = Q[:, 0]\n",
    "Q2_sep = Q[:, 1]\n",
    "\n",
    "q_10_90 = [Q1_sep[1] , Q2_sep[-2]]\n",
    "q_90_90 = [Q1_sep[-2], Q2_sep[-2]]\n",
    "q_90_10 = [Q1_sep[-2], Q2_sep[ 1]]\n",
    "q_10_10 = [Q1_sep[ 1], Q2_sep[ 1]]\n",
    "\n",
    "fig = plt.figure(figsize=(8, 8))\n",
    "plt.scatter(Y[:, 0], Y[:, 1])\n",
    "plt.scatter(q_10_90[0], q_10_90[1], alpha=.5, color='k', s=200, marker='v')\n",
    "plt.scatter(q_90_90[0], q_90_90[1], alpha=.5, color='k', s=200, marker='v')\n",
    "plt.scatter(q_90_10[0], q_90_10[1], alpha=.5, color='k', s=200, marker='v')\n",
    "plt.scatter(q_10_10[0], q_10_10[1], alpha=.5, color='k', s=200, marker='v')\n",
    "plt.tight_layout()\n",
    "fig.savefig(f\"{dataset}_separable_quantiles_on_Y.png\")"
   ]
  },
  {
   "cell_type": "code",
   "execution_count": null,
   "id": "7f893db0-d18b-409a-83e0-0a7270124005",
   "metadata": {},
   "outputs": [],
   "source": [
    "from scipy.spatial import ConvexHull\n",
    "\n",
    "surface_sep = np.array(\n",
    "    [\n",
    "        [\n",
    "            *Q1_sep[1:-2],\n",
    "            *Q1_sep[1:-2], \n",
    "            *[Q1_sep[ 1]]*len(Q2_sep[1:-2]),\n",
    "            *[Q1_sep[-2]]*len(Q2_sep[1:-2]),\n",
    "        ],\n",
    "\n",
    "        [\n",
    "            *[Q2_sep[-2]]*len(Q1_sep[1:-2]),\n",
    "            *[Q2_sep[1]]*len(Q1_sep[1:-2]), \n",
    "            *Q2_sep[1:-2], \n",
    "            *Q2_sep[1:-2]\n",
    "        ]\n",
    "                    \n",
    "    ]\n",
    ").T\n",
    "\n",
    "\n",
    "selected_Y = surface_sep\n",
    "hull = ConvexHull(selected_Y)\n",
    "fig = plt.figure(figsize=(8, 8))\n",
    "for simplex in hull.simplices:\n",
    "    plt.plot(selected_Y[simplex, 0], selected_Y[simplex, 1])\n",
    "    \n",
    "plt.scatter(*selected_Y.T, alpha=.5, color='k', s=200, marker='v')\n",
    "\n",
    "coverage_sep = []\n",
    "for p in Y:\n",
    "    point_is_in_hull = point_in_hull(p, hull)\n",
    "    coverage_sep.append(point_is_in_hull)\n",
    "    marker = 'x' if point_is_in_hull else 'd'\n",
    "    color = 'g' if point_is_in_hull else 'm'\n",
    "    plt.scatter(p[0], p[1], marker=marker, color=color)\n",
    "plt.tight_layout()\n",
    "fig.savefig(f\"{dataset}_Y_inliers_outliers_separable.png\")"
   ]
  },
  {
   "cell_type": "code",
   "execution_count": null,
   "id": "4292f053-160d-4290-97e6-393804322926",
   "metadata": {},
   "outputs": [],
   "source": [
    "coverage_sep_final = (sum(coverage_sep)/len(coverage_sep))*100\n",
    "print(f\"Coverage for separable quantiles: {coverage_sep_final}.\")"
   ]
  },
  {
   "cell_type": "code",
   "execution_count": null,
   "id": "b3506c72-6191-4e97-ad7b-8adaf51cebca",
   "metadata": {},
   "outputs": [],
   "source": [
    "fig = plt.figure(figsize=(8, 8))\n",
    "plt.scatter(Y[:, 0], Y[:, 1])\n",
    "plt.scatter(Q1[1:-2, -2], Q2[1:-2, -2], alpha=.5, color='k', s=200, marker='v')\n",
    "plt.scatter(Q1[1,  1:-2], Q2[1, 1: -2], alpha=.5, color='k', s=200, marker='v')\n",
    "plt.scatter(Q1[1:-2,  1], Q2[1:-2,  1], alpha=.5, color='k', s=200, marker='v')\n",
    "plt.scatter(Q1[-2, 1:-2], Q2[-2, 1:-2], alpha=.5, color='k', s=200, marker='v')\n",
    "# _ = plt.title(f\"Vector quantile surface of Y. Coverage of cvx hull: {coverage_final}\")\n",
    "plt.tight_layout()\n",
    "fig.savefig(f\"{dataset}_vector_quantile_surface_on_Y.png\")"
   ]
  },
  {
   "cell_type": "code",
   "execution_count": null,
   "id": "621f0b43-57f0-4204-9f17-6e0da961f328",
   "metadata": {},
   "outputs": [],
   "source": [
    "fig = plt.figure(figsize=(8, 8))\n",
    "\n",
    "plt.scatter(Y[:, 0], Y[:, 1])\n",
    "plt.scatter(Q1_sep[1:-2], [Q2_sep[-2]]*len(Q1_sep[1:-2]), alpha=.5, color='k', s=200, marker='v')\n",
    "plt.scatter(Q1_sep[1:-2], [Q2_sep[1]]*len(Q1_sep[1:-2]), alpha=.5, color='k', s=200, marker='v')\n",
    "plt.scatter([Q1_sep[ 1]]*len(Q2_sep[1:-2]), Q2_sep[1:-2], alpha=.5, color='k', s=200, marker='v')\n",
    "plt.scatter([Q1_sep[-2]]*len(Q2_sep[1:-2]), Q2_sep[1:-2], alpha=.5, color='k', s=200, marker='v')\n",
    "# _ = plt.title(f\"Separable quantile surface of Y. Coverage of cvx hull: {coverage_sep_final}\")\n",
    "plt.tight_layout()\n",
    "fig.savefig(f\"{dataset}_separable_quantile_surface_on_Y.png\")"
   ]
  },
  {
   "cell_type": "code",
   "execution_count": null,
   "id": "8444b920-3a34-43f5-ad25-29e64603943a",
   "metadata": {},
   "outputs": [],
   "source": [
    "print(coverage_final, coverage_sep_final)"
   ]
  }
 ],
 "metadata": {
  "kernelspec": {
   "display_name": "Python 3 (ipykernel)",
   "language": "python",
   "name": "python3"
  },
  "language_info": {
   "codemirror_mode": {
    "name": "ipython",
    "version": 3
   },
   "file_extension": ".py",
   "mimetype": "text/x-python",
   "name": "python",
   "nbconvert_exporter": "python",
   "pygments_lexer": "ipython3",
   "version": "3.9.10"
  }
 },
 "nbformat": 4,
 "nbformat_minor": 5
}
