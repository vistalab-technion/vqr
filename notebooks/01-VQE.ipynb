{
 "cells": [
  {
   "cell_type": "code",
   "execution_count": null,
   "id": "18c7ba36-0cd9-4518-9d88-02e1f4906df3",
   "metadata": {
    "pycharm": {
     "name": "#%%\n"
    }
   },
   "outputs": [],
   "source": [
    "import os\n",
    "import sys\n",
    "if \"..\" not in sys.path:\n",
    "    sys.path.append(\"..\")\n",
    "    \n",
    "IN_PYTEST = \"PYTEST_CURRENT_TEST\" in os.environ"
   ]
  },
  {
   "cell_type": "code",
   "execution_count": null,
   "id": "ab9e1177-9739-4526-bf93-ff6c34475e9b",
   "metadata": {
    "pycharm": {
     "name": "#%%\n"
    }
   },
   "outputs": [],
   "source": [
    "import cvxpy as cp\n",
    "import numpy as np\n",
    "import matplotlib.pyplot as plt\n",
    "from numpy import arange, quantile\n",
    "from numpy.random import randint, permutation\n",
    "\n",
    "plt.rcParams['font.size'] = 14"
   ]
  },
  {
   "cell_type": "markdown",
   "id": "350c5852-e831-43e0-9307-0f4b9bd6e46c",
   "metadata": {
    "pycharm": {
     "name": "#%% md\n"
    }
   },
   "source": [
    "# Scalar Quantiles via Optimal Transport"
   ]
  },
  {
   "cell_type": "code",
   "execution_count": null,
   "id": "172795c9-afeb-4b67-9572-1465d21941d9",
   "metadata": {
    "pycharm": {
     "name": "#%%\n"
    }
   },
   "outputs": [],
   "source": [
    "from experiments.data.mvn import IndependentDataProvider\n",
    "\n",
    "d = 1\n",
    "k = 1\n",
    "T = 50\n",
    "N = 1000\n",
    "\n",
    "_, Y = IndependentDataProvider(d=d, k=k).sample(n=N)\n",
    "\n",
    "plt.hist(Y, 25);"
   ]
  },
  {
   "cell_type": "code",
   "execution_count": null,
   "id": "6c55b32d-fb16-4387-98ab-be95d8f1d746",
   "metadata": {
    "pycharm": {
     "name": "#%%\n"
    }
   },
   "outputs": [],
   "source": [
    "from vqr import VectorQuantileEstimator\n",
    "from vqr.plot import plot_quantiles,plot_quantiles_3d\n",
    "from vqr.vqr import check_comonotonicity\n",
    "\n",
    "\n",
    "solver = \"vqe_pot\"\n",
    "solver_opts = {'numItermax': int(2e6)}\n"
   ]
  },
  {
   "cell_type": "code",
   "execution_count": null,
   "id": "fab75ccd",
   "metadata": {
    "collapsed": false,
    "jupyter": {
     "outputs_hidden": false
    },
    "pycharm": {
     "name": "#%%\n"
    }
   },
   "outputs": [],
   "source": [
    "vq1 = VectorQuantileEstimator(\n",
    "    n_levels=T,\n",
    "    solver=solver,\n",
    "    solver_opts=solver_opts,\n",
    ")\n",
    "vq1.fit(Y)"
   ]
  },
  {
   "cell_type": "code",
   "execution_count": null,
   "id": "32378f64-672e-4c49-b6a1-533d2df0f31b",
   "metadata": {
    "pycharm": {
     "name": "#%%\n"
    }
   },
   "outputs": [],
   "source": [
    "fig = plot_quantiles(\n",
    "    T, d, Qs=vq1.vector_quantiles(refine=True), Us=vq1.quantile_grid\n",
    ")\n",
    "fig.savefig(\"figs/qr_1d.png\", dpi=150, bbox_inches=\"tight\")"
   ]
  },
  {
   "cell_type": "markdown",
   "id": "84a5ad24-8dbd-45e0-af05-90ac3867797d",
   "metadata": {
    "pycharm": {
     "name": "#%% md\n"
    }
   },
   "source": [
    "# 2D Vector Quantiles"
   ]
  },
  {
   "cell_type": "code",
   "execution_count": null,
   "id": "c3c95b23-2cd2-4bc5-be3c-d118f3d1c617",
   "metadata": {
    "pycharm": {
     "name": "#%%\n"
    }
   },
   "outputs": [],
   "source": [
    "from experiments.data.mvn import IndependentDataProvider\n",
    "\n",
    "d = 2\n",
    "k = 1\n",
    "T = 50\n",
    "N = 2000\n",
    "\n",
    "_, Y = IndependentDataProvider(d=d, k=k, seed=31).sample(n=N)\n",
    "Y[:, 0] += 10\n",
    "\n",
    "fig, ax = plt.subplots(1,1,figsize=(10,5))\n",
    "ax.scatter(Y[:, 0], Y[:, 1], c=np.sum(Y**2, axis=1))\n",
    "ax.set_xlabel(f\"y_1\")\n",
    "ax.set_ylabel(f\"y_2\")\n"
   ]
  },
  {
   "cell_type": "code",
   "execution_count": null,
   "id": "3198dffd-5704-4789-98e0-b321283149ef",
   "metadata": {
    "pycharm": {
     "name": "#%%\n"
    }
   },
   "outputs": [],
   "source": [
    "vq2 = VectorQuantileEstimator(\n",
    "    n_levels=T,\n",
    "    solver=solver,\n",
    "    solver_opts=solver_opts,\n",
    ")\n",
    "vq2.fit(Y)"
   ]
  },
  {
   "cell_type": "code",
   "execution_count": null,
   "id": "f8b6fd11-8971-4ff9-8c58-f4d88ea3ba2d",
   "metadata": {
    "pycharm": {
     "name": "#%%\n"
    }
   },
   "outputs": [],
   "source": [
    "Qs = vq2.vector_quantiles(refine=False)\n",
    "Us = vq2.quantile_grid\n",
    "\n",
    "Qs_T = [Q.transpose() for Q in Qs]\n",
    "Us_T = [U.transpose() for U in Us]\n",
    "\n",
    "violations = check_comonotonicity(T, d, Qs, Us) < 0\n",
    "print(f\"violations  ={np.sum(violations) / np.prod(violations.shape)}\")\n",
    "\n",
    "violations_T = check_comonotonicity(T, d, Qs_T, Us_T) < 0\n",
    "print(f\"violations_T={np.sum(violations_T) / np.prod(violations_T.shape)}\")\n"
   ]
  },
  {
   "cell_type": "code",
   "execution_count": null,
   "id": "f7a7c309",
   "metadata": {
    "collapsed": false,
    "jupyter": {
     "outputs_hidden": false
    },
    "pycharm": {
     "name": "#%%\n"
    }
   },
   "outputs": [],
   "source": [
    "\n",
    "Qs = vq2.vector_quantiles(refine=False)\n",
    "Us = vq2.quantile_grid\n",
    "#u_levels = vq2.quantile_levels\n",
    "\n",
    "fig, axes = plt.subplots(2, 1, figsize=(10, 12))\n",
    "\n",
    "for i, d_ in enumerate(range(d), start=0):\n",
    "    ax = axes[d_]\n",
    "\n",
    "    # Get the surface of dimension d_\n",
    "    # Qs = list(reversed(Qs))\n",
    "\n",
    "    # We need to transpose in order for e.g.\n",
    "    # Q1[:, u2]\n",
    "    # Q2[u1, :]\n",
    "    # to be monotonic quantiles curves for Y1 and Y2\n",
    "    Q_d = Qs[d_].transpose()\n",
    "    U_d = Us[d_].transpose()\n",
    "\n",
    "    u_sweep = d_\n",
    "\n",
    "    print(f\"Q_{i}, sweeping over u{u_sweep}\")\n",
    "\n",
    "    # Loop over levels of u_d\n",
    "    for j, u_idx in  enumerate(range(0, T, T//10), start=0):\n",
    "\n",
    "        idx_q = [u_idx] * d\n",
    "        idx_q[u_sweep] = slice(None)\n",
    "\n",
    "        ax.plot(\n",
    "            U_d[tuple(idx_q)],\n",
    "            Q_d[tuple(idx_q)],\n",
    "            color=f\"C{j}\",\n",
    "            label=f\"$u_{1-u_sweep}$={U_d[tuple(idx_q)][u_idx]:.2f}\",\n",
    "        )\n",
    "\n",
    "    ax.set_xlabel(f\"$u_{u_sweep}$\")\n",
    "    ax.set_title(f\"$Q_{i}$\")\n",
    "    ax.legend()"
   ]
  },
  {
   "cell_type": "code",
   "execution_count": null,
   "id": "92aaafea",
   "metadata": {
    "collapsed": false,
    "jupyter": {
     "outputs_hidden": false
    },
    "pycharm": {
     "name": "#%%\n"
    }
   },
   "outputs": [],
   "source": [
    "fig = plot_quantiles(T, d, Qs=Qs, Us=Us, figsize=(15, 20))"
   ]
  },
  {
   "cell_type": "code",
   "execution_count": null,
   "id": "8c8b96fc-0fad-4e53-8773-787c0c37ae6c",
   "metadata": {
    "pycharm": {
     "name": "#%%\n"
    }
   },
   "outputs": [],
   "source": [
    "plot_quantiles_3d(T, d, Qs=Qs, Us=Us, figsize=(25, 20))\n",
    "fig.savefig(\"figs/qr_2d.png\", dpi=150, bbox_inches=\"tight\")"
   ]
  },
  {
   "cell_type": "markdown",
   "id": "fe2d642a-36ef-43de-9830-580974d4ef51",
   "metadata": {
    "pycharm": {
     "name": "#%% md\n"
    }
   },
   "source": [
    "# 3D Vector Quantiles"
   ]
  },
  {
   "cell_type": "code",
   "execution_count": null,
   "id": "658fd832-cc8f-49a6-9379-ce621e5bb897",
   "metadata": {
    "pycharm": {
     "name": "#%%\n"
    }
   },
   "outputs": [],
   "source": [
    "from experiments.data.mvn import IndependentDataProvider\n",
    "\n",
    "d = 3\n",
    "k = 1\n",
    "T = 10\n",
    "N = 2000\n",
    "\n",
    "_, Y = IndependentDataProvider(d=d, k=k).sample(n=N)\n",
    "Y[:,0] += 10\n",
    "Y[:,1] += 100\n",
    "\n",
    "fig, ax = plt.subplots(1, 1, subplot_kw={\"projection\": \"3d\"}, figsize=(10, 20))\n",
    "ax.scatter(Y[:, 0], Y[:, 1], Y[:, 2], c=np.sum(Y**2, axis=1))\n",
    "ax.set_xlabel(\"y_1\")\n",
    "ax.set_ylabel(\"y_2\")\n",
    "ax.set_zlabel(\"y_3\")\n"
   ]
  },
  {
   "cell_type": "code",
   "execution_count": null,
   "id": "4968c49a-8640-4722-8f44-c532bdc13edd",
   "metadata": {
    "pycharm": {
     "name": "#%%\n"
    }
   },
   "outputs": [],
   "source": [
    "vq3 = VectorQuantileEstimator(\n",
    "    n_levels=T,\n",
    "    solver=solver,\n",
    "    solver_opts=solver_opts,\n",
    ")\n",
    "vq3.fit(Y)"
   ]
  },
  {
   "cell_type": "code",
   "execution_count": null,
   "id": "660b1b5b",
   "metadata": {
    "collapsed": false,
    "jupyter": {
     "outputs_hidden": false
    },
    "pycharm": {
     "name": "#%%\n"
    }
   },
   "outputs": [],
   "source": [
    "fig , ax = plot_quantiles_3d(\n",
    "    T,\n",
    "    d,\n",
    "    Qs=vq3.vector_quantiles(refine=True),\n",
    "    Us=vq3.quantile_grid,\n",
    "    figsize=(32, 22),\n",
    "    alpha=0.6,\n",
    ")\n",
    "fig.savefig(\"figs/qr_3d.png\", dpi=150, bbox_inches=\"tight\")\n"
   ]
  }
 ],
 "metadata": {
  "kernelspec": {
   "display_name": "",
   "language": "python",
   "name": ""
  },
  "language_info": {
   "codemirror_mode": {
    "name": "ipython",
    "version": 3
   },
   "file_extension": ".py",
   "mimetype": "text/x-python",
   "name": "python",
   "nbconvert_exporter": "python",
   "pygments_lexer": "ipython3",
   "version": "3.9.13"
  }
 },
 "nbformat": 4,
 "nbformat_minor": 5
}
