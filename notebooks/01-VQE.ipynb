{
 "cells": [
  {
   "cell_type": "code",
   "execution_count": null,
   "id": "18c7ba36-0cd9-4518-9d88-02e1f4906df3",
   "metadata": {},
   "outputs": [],
   "source": [
    "import os\n",
    "import sys\n",
    "if \"..\" not in sys.path:\n",
    "    sys.path.append(\"..\")\n",
    "    \n",
    "IN_PYTEST = \"PYTEST_CURRENT_TEST\" in os.environ"
   ]
  },
  {
   "cell_type": "code",
   "execution_count": null,
   "id": "ab9e1177-9739-4526-bf93-ff6c34475e9b",
   "metadata": {},
   "outputs": [],
   "source": [
    "import cvxpy as cp\n",
    "import numpy as np\n",
    "import matplotlib.pyplot as plt\n",
    "from numpy import arange, quantile\n",
    "from numpy.random import randint, permutation\n",
    "\n",
    "plt.rcParams['font.size'] = 14"
   ]
  },
  {
   "cell_type": "markdown",
   "id": "350c5852-e831-43e0-9307-0f4b9bd6e46c",
   "metadata": {},
   "source": [
    "# Scalar Quantiles via Optimal Transport"
   ]
  },
  {
   "cell_type": "code",
   "execution_count": null,
   "id": "48dd3167",
   "metadata": {},
   "outputs": [],
   "source": [
    "from experiments.datasets.mvn import IndependentDataProvider\n",
    "\n",
    "d = 1\n",
    "k = 1\n",
    "T = 50\n",
    "N = 1000\n",
    "\n",
    "_, Y = IndependentDataProvider(d=d, k=k).sample(n=N)\n",
    "\n",
    "plt.hist(Y, 25);"
   ]
  },
  {
   "cell_type": "code",
   "execution_count": null,
   "id": "8a808597",
   "metadata": {},
   "outputs": [],
   "source": [
    "from vqr import VectorQuantileEstimator\n",
    "from vqr.plot import plot_quantiles,plot_quantiles_3d\n",
    "from vqr.cvqf import check_comonotonicity\n",
    "\n",
    "\n",
    "solver = \"vqe_pot\"\n",
    "solver_opts = {'numItermax': int(2e6)}\n"
   ]
  },
  {
   "cell_type": "code",
   "execution_count": null,
   "id": "89d97334",
   "metadata": {},
   "outputs": [],
   "source": [
    "vq1 = VectorQuantileEstimator(\n",
    "    solver=solver,\n",
    "    solver_opts=dict(**solver_opts, T=T),\n",
    ")\n",
    "vq1.fit(Y)"
   ]
  },
  {
   "cell_type": "code",
   "execution_count": null,
   "id": "b6979a45",
   "metadata": {},
   "outputs": [],
   "source": [
    "fig = plot_quantiles(\n",
    "    Qs=vq1.vector_quantiles(refine=True), Us=vq1.quantile_grid\n",
    ")\n",
    "fig.savefig(\"figs/qr_1d.png\", dpi=150, bbox_inches=\"tight\")"
   ]
  },
  {
   "cell_type": "markdown",
   "id": "2af845dc",
   "metadata": {},
   "source": [
    "# 2D Vector Quantiles"
   ]
  },
  {
   "cell_type": "code",
   "execution_count": null,
   "id": "3783d34b",
   "metadata": {},
   "outputs": [],
   "source": [
    "from experiments.datasets.mvn import IndependentDataProvider\n",
    "\n",
    "d = 2\n",
    "k = 1\n",
    "T = 50\n",
    "N = 2000\n",
    "\n",
    "_, Y = IndependentDataProvider(d=d, k=k, seed=31).sample(n=N)\n",
    "Y[:, 0] += 10\n",
    "\n",
    "fig, ax = plt.subplots(1,1,figsize=(10,5))\n",
    "ax.scatter(Y[:, 0], Y[:, 1], c=np.sum(Y**2, axis=1))\n",
    "ax.set_xlabel(f\"y_1\")\n",
    "ax.set_ylabel(f\"y_2\")\n"
   ]
  },
  {
   "cell_type": "code",
   "execution_count": null,
   "id": "14a4e9c0",
   "metadata": {},
   "outputs": [],
   "source": [
    "vq2 = VectorQuantileEstimator(\n",
    "    solver=solver,\n",
    "    solver_opts=dict(**solver_opts, T=T),\n",
    ")\n",
    "vq2.fit(Y)"
   ]
  },
  {
   "cell_type": "code",
   "execution_count": null,
   "id": "dc6858b3",
   "metadata": {},
   "outputs": [],
   "source": [
    "Qs = vq2.vector_quantiles(refine=False)\n",
    "Us = vq2.quantile_grid\n",
    "\n",
    "Qs_T = [Q.transpose() for Q in Qs]\n",
    "Us_T = [U.transpose() for U in Us]\n",
    "\n",
    "violations = check_comonotonicity(Qs, Us) < 0\n",
    "print(f\"violations  ={np.sum(violations) / np.prod(violations.shape)}\")\n",
    "\n",
    "violations_T = check_comonotonicity(Qs_T, Us_T) < 0\n",
    "print(f\"violations_T={np.sum(violations_T) / np.prod(violations_T.shape)}\")\n"
   ]
  },
  {
   "cell_type": "code",
   "execution_count": null,
   "id": "d0c307b4",
   "metadata": {},
   "outputs": [],
   "source": [
    "\n",
    "Qs = vq2.vector_quantiles(refine=False)\n",
    "Us = vq2.quantile_grid\n",
    "#u_levels = vq2.quantile_levels\n",
    "\n",
    "fig, axes = plt.subplots(2, 1, figsize=(10, 12))\n",
    "\n",
    "for i, d_ in enumerate(range(d), start=0):\n",
    "    ax = axes[d_]\n",
    "\n",
    "    # Get the surface of dimension d_\n",
    "    # Qs = list(reversed(Qs))\n",
    "\n",
    "    # We need to transpose in order for e.g.\n",
    "    # Q1[:, u2]\n",
    "    # Q2[u1, :]\n",
    "    # to be monotonic quantiles curves for Y1 and Y2\n",
    "    Q_d = Qs[d_].transpose()\n",
    "    U_d = Us[d_].transpose()\n",
    "\n",
    "    u_sweep = d_\n",
    "\n",
    "    print(f\"Q_{i}, sweeping over u{u_sweep}\")\n",
    "\n",
    "    # Loop over levels of u_d\n",
    "    for j, u_idx in  enumerate(range(0, T, T//10), start=0):\n",
    "\n",
    "        idx_q = [u_idx] * d\n",
    "        idx_q[u_sweep] = slice(None)\n",
    "\n",
    "        ax.plot(\n",
    "            U_d[tuple(idx_q)],\n",
    "            Q_d[tuple(idx_q)],\n",
    "            color=f\"C{j}\",\n",
    "            label=f\"$u_{1-u_sweep}$={U_d[tuple(idx_q)][u_idx]:.2f}\",\n",
    "        )\n",
    "\n",
    "    ax.set_xlabel(f\"$u_{u_sweep}$\")\n",
    "    ax.set_title(f\"$Q_{i}$\")\n",
    "    ax.legend()"
   ]
  },
  {
   "cell_type": "code",
   "execution_count": null,
   "id": "6551f851",
   "metadata": {},
   "outputs": [],
   "source": [
    "fig = plot_quantiles(Qs=Qs, Us=Us, figsize=(15, 20))"
   ]
  },
  {
   "cell_type": "code",
   "execution_count": null,
   "id": "20e6a711",
   "metadata": {},
   "outputs": [],
   "source": [
    "plot_quantiles_3d(Qs=Qs, Us=Us, figsize=(25, 20))\n",
    "fig.savefig(\"figs/qr_2d.png\", dpi=150, bbox_inches=\"tight\")"
   ]
  },
  {
   "cell_type": "markdown",
   "id": "1e8ec493",
   "metadata": {},
   "source": [
    "# 3D Vector Quantiles"
   ]
  },
  {
   "cell_type": "code",
   "execution_count": null,
   "id": "d1335cf6",
   "metadata": {},
   "outputs": [],
   "source": [
    "from experiments.datasets.mvn import IndependentDataProvider\n",
    "\n",
    "d = 3\n",
    "k = 1\n",
    "T = 10\n",
    "N = 2000\n",
    "\n",
    "_, Y = IndependentDataProvider(d=d, k=k).sample(n=N)\n",
    "Y[:,0] += 10\n",
    "Y[:,1] += 100\n",
    "\n",
    "fig, ax = plt.subplots(1, 1, subplot_kw={\"projection\": \"3d\"}, figsize=(10, 20))\n",
    "ax.scatter(Y[:, 0], Y[:, 1], Y[:, 2], c=np.sum(Y**2, axis=1))\n",
    "ax.set_xlabel(\"y_1\")\n",
    "ax.set_ylabel(\"y_2\")\n",
    "ax.set_zlabel(\"y_3\")\n"
   ]
  },
  {
   "cell_type": "code",
   "execution_count": null,
   "id": "ed6a780a",
   "metadata": {},
   "outputs": [],
   "source": [
    "vq3 = VectorQuantileEstimator(\n",
    "    solver=solver,\n",
    "    solver_opts=dict(**solver_opts, T=T),\n",
    ")\n",
    "vq3.fit(Y)"
   ]
  },
  {
   "cell_type": "code",
   "execution_count": null,
   "id": "bfe8a995",
   "metadata": {},
   "outputs": [],
   "source": [
    "fig , ax = plot_quantiles_3d(\n",
    "    Qs=vq3.vector_quantiles(refine=True),\n",
    "    Us=vq3.quantile_grid,\n",
    "    figsize=(32, 22),\n",
    "    alpha=0.6,\n",
    ")\n",
    "fig.savefig(\"figs/qr_3d.png\", dpi=150, bbox_inches=\"tight\")\n"
   ]
  },
  {
   "cell_type": "code",
   "execution_count": null,
   "id": "8e8af8c0",
   "metadata": {},
   "outputs": [],
   "source": []
  }
 ],
 "metadata": {
  "kernelspec": {
   "display_name": "",
   "language": "python",
   "name": ""
  },
  "language_info": {
   "codemirror_mode": {
    "name": "ipython",
    "version": 3
   },
   "file_extension": ".py",
   "mimetype": "text/x-python",
   "name": "python",
   "nbconvert_exporter": "python",
   "pygments_lexer": "ipython3",
   "version": "3.9.15"
  }
 },
 "nbformat": 4,
 "nbformat_minor": 5
}
