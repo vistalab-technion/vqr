{
 "cells": [
  {
   "cell_type": "code",
   "execution_count": 1,
   "id": "37372c83-99ed-4e93-9a29-56d324d3585a",
   "metadata": {},
   "outputs": [
    {
     "name": "stdout",
     "output_type": "stream",
     "text": [
      "The autoreload extension is already loaded. To reload it, use:\n",
      "  %reload_ext autoreload\n"
     ]
    }
   ],
   "source": [
    "%load_ext autoreload\n",
    "%autoreload 2\n",
    "\n",
    "import ot\n",
    "import numpy as np"
   ]
  },
  {
   "cell_type": "code",
   "execution_count": null,
   "id": "ad11e6fa",
   "metadata": {
    "collapsed": false,
    "pycharm": {
     "is_executing": true,
     "name": "#%%\n"
    }
   },
   "outputs": [
    {
     "name": "stdout",
     "output_type": "stream",
     "text": [
      "epoch_idx=0, total_loss=2.049734 constraint_loss=1.949734, elapsed=0.09s\n",
      "epoch_idx=100, total_loss=0.770940 constraint_loss=0.670940, elapsed=7.90s\n",
      "epoch_idx=200, total_loss=0.614407 constraint_loss=0.514407, elapsed=7.24s\n",
      "epoch_idx=300, total_loss=0.567196 constraint_loss=0.467196, elapsed=7.35s\n"
     ]
    }
   ],
   "source": [
    "import matplotlib.pyplot as plt"
   ]
  },
  {
   "cell_type": "code",
   "execution_count": null,
   "id": "3159111a",
   "metadata": {
    "collapsed": false,
    "pycharm": {
     "is_executing": true
    }
   },
   "outputs": [],
   "source": [
    "from numpy import array, stack, zeros\n",
    "from numpy.random import randint, uniform\n",
    "\n",
    "from vqr.api import VectorQuantileRegressor"
   ]
  },
  {
   "cell_type": "code",
   "execution_count": null,
   "id": "786c6479",
   "metadata": {
    "collapsed": false,
    "pycharm": {
     "is_executing": true,
     "name": "#%%\n"
    }
   },
   "outputs": [],
   "source": [
    "from vqr.vqr import decode_quantile_values"
   ]
  },
  {
   "cell_type": "code",
   "execution_count": null,
   "id": "0f61d8cc",
   "metadata": {
    "collapsed": false,
    "pycharm": {
     "is_executing": true,
     "name": "#%%\n"
    }
   },
   "outputs": [],
   "source": [
    "from experiments.data.mvn import LinearMVNDataProvider\n",
    "\n",
    "d = 2\n",
    "k = 2\n",
    "n = 5000\n",
    "X, Y_orig = LinearMVNDataProvider(d=d, k=k).sample(n=n)\n",
    "\n",
    "T = 50\n",
    "\n",
    "U_samples = randint(0, T, size=(n, 2))\n",
    "\n",
    "vqr_ = VectorQuantileRegressor(\n",
    "    solver_opts={\"verbose\": True, \"num_epochs\": 1000, \"epsilon\": 0.0001}\n",
    ")\n",
    "vqr_ = vqr_.fit(X, Y_orig)\n",
    "\n",
    "A = vqr_._fitted_solution._A\n",
    "B = vqr_._fitted_solution._B\n",
    "\n",
    "\n",
    "# Sample X, Uniformly sample U to get Y\n",
    "\n",
    "X_new = uniform(size=[n, k]) - 0.5\n",
    "Y_samp = zeros([n, d])\n",
    "\n",
    "for i in range(X.shape[0]):\n",
    "    Y_hat = (B @ X_new[i, :][:, None]) + A\n",
    "    Q1, Q2 = decode_quantile_values(T, d=2, Y_hat=Y_hat)\n",
    "    u1, u2 = U_samples[i]\n",
    "    Y_samp[i, :] = array((Q1[u1, u2], Q2[u1, u2]))\n",
    "\n",
    "\n",
    "def U_to_colors(U_):\n",
    "    U_ = np.concatenate([U_, np.zeros(shape=(U_.shape[0], 1))], axis=1)\n",
    "    return U_ / T\n",
    "\n",
    "\n",
    "U_colors = U_to_colors(U_samples)\n",
    "X_colors = np.concatenate([X_new + 0.5, np.zeros(shape=(X_new.shape[0], 1))], axis=1)\n",
    "colors = X_colors  # U_colors"
   ]
  },
  {
   "cell_type": "code",
   "execution_count": null,
   "id": "322c0bf7",
   "metadata": {
    "lines_to_next_cell": 2,
    "pycharm": {
     "is_executing": true,
     "name": "#%%\n"
    }
   },
   "outputs": [],
   "source": [
    "def w2(Y_gt_, Y_est_):\n",
    "    return ot.emd2(\n",
    "        a=[], b=[], M=ot.dist(Y_gt_, Y_est_), numItermax=200_000, numThreads=8\n",
    "    )\n",
    "\n",
    "\n",
    "fig, ax = plt.subplots(1, 2, figsize=(10, 5))\n",
    "\n",
    "ax[0].scatter(Y_orig[:, 0], Y_orig[:, 1], c=colors)\n",
    "ax[0].set_title(\"Y - original\")\n",
    "ax[0].set_xlim(-5, 5)\n",
    "ax[0].set_ylim(-5, 5)\n",
    "\n",
    "ax[1].scatter(Y_samp[:, 0], Y_samp[:, 1], c=colors)\n",
    "ax[1].set_title(f\"Y - VQR fitted and sampled (w2={w2(Y_orig, Y_samp):.4f})\")\n",
    "ax[1].set_xlim(-5, 5)\n",
    "ax[1].set_ylim(-5, 5)\n",
    "\n",
    "plt.show()"
   ]
  },
  {
   "cell_type": "code",
   "execution_count": null,
   "id": "17c9684d",
   "metadata": {
    "collapsed": false,
    "lines_to_next_cell": 2,
    "pycharm": {
     "is_executing": true,
     "name": "#%%\n"
    }
   },
   "outputs": [],
   "source": [
    "# Generate a quantile function that is nonlinear in X\n",
    "\n",
    "\n",
    "def g(x):\n",
    "    # A nonlinear function in X\n",
    "    Q = array([[2.0, 1.0], [1.0, 2.0]])\n",
    "    return x.T @ Q @ x + x\n",
    "\n",
    "\n",
    "Y_nl = zeros([n, d])\n",
    "for i in range(n):\n",
    "    # Sample using a known B but the quantile function is now nonlinear in X\n",
    "    Y_hat = (B @ g(X_new[i, :][:, None])) + A\n",
    "    Q1, Q2 = decode_quantile_values(T, d=2, Y_hat=Y_hat)\n",
    "    u1, u2 = U_samples[i]\n",
    "    Y_nl[i, :] = array((Q1[u1, u2], Q2[u1, u2]))"
   ]
  },
  {
   "cell_type": "code",
   "execution_count": null,
   "id": "31875501",
   "metadata": {
    "collapsed": false,
    "pycharm": {
     "is_executing": true,
     "name": "#%%\n"
    }
   },
   "outputs": [],
   "source": [
    "fig, ax = plt.subplots(1, 3, figsize=(15, 5))\n",
    "\n",
    "ax[0].scatter(Y_samp[:, 0], Y_samp[:, 1], c=colors)\n",
    "ax[0].set_title(\"Linear Q(Y|X)\")\n",
    "ax[0].set_xlim(-5, 5)\n",
    "ax[0].set_ylim(-5, 5)\n",
    "\n",
    "ax[1].scatter(Y_nl[:, 0], Y_nl[:, 1], c=colors)\n",
    "ax[1].set_title(f\"Nonlinear Q(Y|X) (w2={w2(Y_samp, Y_nl):.4f})\")\n",
    "ax[1].set_xlim(-5, 5)\n",
    "ax[1].set_ylim(-5, 5)\n",
    "\n",
    "ax[2].scatter(U_samples[:, 0] / T, U_samples[:, 1] / T, c=U_colors)\n",
    "ax[2].set_title(\"U_samples\")\n",
    "ax[2].set_xlim(0, 1)\n",
    "ax[2].set_xlabel(\"u1\")\n",
    "ax[2].set_ylim(0, 1)\n",
    "ax[2].set_ylabel(\"u2\")\n",
    "\n",
    "plt.show()"
   ]
  },
  {
   "cell_type": "code",
   "execution_count": null,
   "id": "6f34229d-b3d1-4d02-bd1f-ddc327dc9101",
   "metadata": {
    "lines_to_next_cell": 2,
    "pycharm": {
     "is_executing": true
    }
   },
   "outputs": [],
   "source": [
    "# We know that the distribution on the right has a nonlinear quantile function w.r.to X.\n",
    "# Now we fit a VQR on this data to get a linear approximation of this nonlinear function.\n",
    "# This allows us to measure how mis-specified is the quantile function\n",
    "\n",
    "vqr_approximating_nl = VectorQuantileRegressor(\n",
    "    solver_opts={\"verbose\": True, \"num_epochs\": 1000, \"epsilon\": 0.001}\n",
    ")\n",
    "vqr_approximating_nl = vqr_approximating_nl.fit(X_new, Y_nl)\n",
    "B_approximating_nl = vqr_approximating_nl._fitted_solution._B\n",
    "A_approximating_nl = vqr_approximating_nl._fitted_solution._A"
   ]
  },
  {
   "cell_type": "code",
   "execution_count": null,
   "id": "b9af7d75-7543-498c-9a3a-a0780c7fffd2",
   "metadata": {
    "pycharm": {
     "is_executing": true
    }
   },
   "outputs": [],
   "source": [
    "Y_approximated_nl = zeros([n, d])\n",
    "for i in range(n):\n",
    "    # Y_hat = (B_approximating_nl @ g(X_new[i, :][:, None])) + A_approximating_nl\n",
    "    Y_hat = (B_approximating_nl @ X_new[i, :][:, None]) + A_approximating_nl\n",
    "    Q1, Q2 = decode_quantile_values(T, d=2, Y_hat=Y_hat)\n",
    "    u1, u2 = U_samples[i]\n",
    "    Y_approximated_nl[i, :] = array((Q1[u1, u2], Q2[u1, u2]))"
   ]
  },
  {
   "cell_type": "code",
   "execution_count": null,
   "id": "830f6e39-16eb-4831-a196-da07f9033844",
   "metadata": {
    "lines_to_next_cell": 2,
    "pycharm": {
     "is_executing": true
    }
   },
   "outputs": [],
   "source": [
    "fig, ax = plt.subplots(1, 2, figsize=(10, 5))\n",
    "\n",
    "ax[0].scatter(Y_nl[:, 0], Y_nl[:, 1], c=colors)\n",
    "ax[0].set_title(\"Non-linear Y: GT\")\n",
    "ax[0].set_xlim(-5, 5)\n",
    "ax[0].set_ylim(-5, 5)\n",
    "\n",
    "ax[1].scatter(Y_approximated_nl[:, 0], Y_approximated_nl[:, 1], c=colors)\n",
    "ax[1].set_title(\n",
    "    f\"Non-linear Y: linear approx + sampled \" f\"(w2={w2(Y_nl, Y_approximated_nl):.4f})\"\n",
    ")\n",
    "ax[1].set_xlim(-5, 5)\n",
    "ax[1].set_ylim(-5, 5)\n",
    "\n",
    "plt.show()\n",
    "\n",
    "\n",
    "nonlinear_vqr_gt = VectorQuantileRegressor(\n",
    "    solver_opts={\"verbose\": True, \"num_epochs\": 1000, \"epsilon\": 0.001}\n",
    ")\n",
    "nonlinear_vqr_gt = nonlinear_vqr_gt.fit(stack([g(X_new[i, :]) for i in range(n)]), Y_nl)\n",
    "B_nl_gt = nonlinear_vqr_gt._fitted_solution._B\n",
    "A_nl_gt = nonlinear_vqr_gt._fitted_solution._A"
   ]
  },
  {
   "cell_type": "code",
   "execution_count": null,
   "id": "a659db72-3746-4d42-afb2-24d69d49d0f7",
   "metadata": {
    "pycharm": {
     "is_executing": true
    }
   },
   "outputs": [],
   "source": [
    "Y_nl_gt = zeros([n, d])\n",
    "for i in range(n):\n",
    "    Y_hat = (B_nl_gt @ g(X_new[i, :][:, None])) + A_nl_gt\n",
    "    Q1, Q2 = decode_quantile_values(T, d=2, Y_hat=Y_hat)\n",
    "    u1, u2 = U_samples[i]\n",
    "    Y_nl_gt[i, :] = array((Q1[u1, u2], Q2[u1, u2]))\n",
    "\n",
    "fig, ax = plt.subplots(1, 2, figsize=(10, 5))\n",
    "\n",
    "ax[0].scatter(Y_nl[:, 0], Y_nl[:, 1], c=colors)\n",
    "ax[0].set_title(\"Non-linear Y: GT.\")\n",
    "ax[0].set_xlim(-5, 5)\n",
    "ax[0].set_ylim(-5, 5)\n",
    "\n",
    "ax[1].scatter(Y_nl_gt[:, 0], Y_nl_gt[:, 1], c=colors)\n",
    "ax[1].set_title(f\"Non-linear Y: VQR on g(X) (w2={w2(Y_nl, Y_nl_gt):.4f})\")\n",
    "ax[1].set_xlim(-5, 5)\n",
    "ax[1].set_ylim(-5, 5)\n",
    "\n",
    "plt.show()"
   ]
  },
  {
   "cell_type": "code",
   "execution_count": null,
   "id": "3d1283b3-fdf0-480b-8586-c46ccd640d37",
   "metadata": {
    "pycharm": {
     "is_executing": true,
     "name": "#%%\n"
    }
   },
   "outputs": [],
   "source": [
    "# from vqr.vqr import NonlinearRVQRDualLSESolver\n",
    "# import pickle\n",
    "#\n",
    "# with open(\"nonlin-y.pkl\", \"wb\") as f:\n",
    "#     pickle.dump({'X': X_new, 'Y': Y_nl}, f)"
   ]
  },
  {
   "cell_type": "code",
   "execution_count": null,
   "id": "4fecf17c",
   "metadata": {
    "collapsed": false,
    "pycharm": {
     "is_executing": true,
     "name": "#%%\n"
    }
   },
   "outputs": [],
   "source": []
  }
 ],
 "metadata": {
  "kernelspec": {
   "display_name": "Python 3",
   "language": "python",
   "name": "python3"
  },
  "language_info": {
   "codemirror_mode": {
    "name": "ipython",
    "version": 3
   },
   "file_extension": ".py",
   "mimetype": "text/x-python",
   "name": "python",
   "nbconvert_exporter": "python",
   "pygments_lexer": "ipython3",
   "version": "3.9.5"
  }
 },
 "nbformat": 4,
 "nbformat_minor": 5
}
