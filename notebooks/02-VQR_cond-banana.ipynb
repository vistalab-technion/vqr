{
 "cells": [
  {
   "cell_type": "code",
   "execution_count": null,
   "metadata": {
    "pycharm": {
     "is_executing": true
    }
   },
   "outputs": [],
   "source": [
    "import os\n",
    "import sys\n",
    "if \"..\" not in sys.path:\n",
    "    sys.path.append(\"..\")\n",
    "    \n",
    "IN_PYTEST = \"PYTEST_CURRENT_TEST\" in os.environ"
   ]
  },
  {
   "cell_type": "code",
   "execution_count": null,
   "metadata": {
    "pycharm": {
     "is_executing": true
    },
    "tags": []
   },
   "outputs": [],
   "source": [
    "import torch\n",
    "\n",
    "from vqr.api import VectorQuantileEstimator, VectorQuantileRegressor\n",
    "from experiments.datasets.cond_banana import ConditionalBananaDataProvider\n",
    "from vqr.solvers.regularized_lse import (\n",
    "    RegularizedDualVQRSolver,\n",
    "    MLPRegularizedDualVQRSolver,\n",
    ")\n",
    "from experiments.utils.metrics import kde, kde_l1, w2_pot, w2_keops\n",
    "from numpy import array\n",
    "from torch import tensor\n",
    "from matplotlib import pyplot as plt\n",
    "from matplotlib import cm"
   ]
  },
  {
   "cell_type": "markdown",
   "metadata": {
    "tags": []
   },
   "source": [
    "# Dataset\n",
    "\n",
    "We generate a conditional banana dataset."
   ]
  },
  {
   "cell_type": "code",
   "execution_count": null,
   "metadata": {
    "jupyter": {
     "outputs_hidden": false
    }
   },
   "outputs": [],
   "source": [
    "n = 10000\n",
    "d = 2\n",
    "k = 1\n",
    "T = 25\n",
    "num_epochs = 5000\n",
    "linear = False\n",
    "sigma = 0.1\n",
    "GPU_DEVICE_NUM = 0\n",
    "device = f\"cuda:{GPU_DEVICE_NUM}\" if torch.cuda.is_available() else \"cpu\"\n",
    "dtype = torch.float32\n",
    "epsilon = 5e-3\n",
    "\n",
    "if IN_PYTEST:\n",
    "    n = 2500\n",
    "    T = 25\n",
    "    num_epochs = 500\n",
    "    \n",
    "data_provider = ConditionalBananaDataProvider(k=k, d=d, nonlinear=True)\n",
    "X, Y = data_provider.sample(n=n)"
   ]
  },
  {
   "cell_type": "markdown",
   "metadata": {},
   "source": [
    "# Solver\n",
    "\n",
    "We create VQR and NL-VQR solvers."
   ]
  },
  {
   "cell_type": "code",
   "execution_count": null,
   "metadata": {
    "jupyter": {
     "outputs_hidden": false
    }
   },
   "outputs": [],
   "source": [
    "# RVQR that solves Equation 7 in the paper\n",
    "linear_solver = RegularizedDualVQRSolver(\n",
    "    verbose=True,\n",
    "    T=T,\n",
    "    num_epochs=num_epochs,\n",
    "    epsilon=epsilon,\n",
    "    lr=2.9,\n",
    "    gpu=True,\n",
    "    full_precision=False,\n",
    "    device_num=GPU_DEVICE_NUM,\n",
    "    batchsize_y=None,\n",
    "    batchsize_u=None,\n",
    "    inference_batch_size=100,\n",
    "    lr_factor=0.9,\n",
    "    lr_patience=500,\n",
    "    lr_threshold=0.5 * 0.01,\n",
    ")\n",
    "\n",
    "\n",
    "# NL-VQR solver that solves Equation 9 in the paper.\n",
    "# g_\\theta is chosen to be a small MLP with three layers\n",
    "# Can also use a custom neural net, by using RegularizedDualVQRSolver with nn_init argument.\n",
    "nonlinear_solver = MLPRegularizedDualVQRSolver(\n",
    "    verbose=True,\n",
    "    T=T,\n",
    "    num_epochs=num_epochs,\n",
    "    epsilon=epsilon,\n",
    "    lr=0.4,\n",
    "    gpu=True,\n",
    "    skip=False,\n",
    "    batchnorm=False,\n",
    "    hidden_layers=(2, 10, 20),\n",
    "    device_num=GPU_DEVICE_NUM,\n",
    "    batchsize_y=None,\n",
    "    batchsize_u=None,\n",
    "    inference_batch_size=100,\n",
    "    lr_factor=0.9,\n",
    "    lr_patience=300,\n",
    "    lr_threshold=0.5 * 0.01,\n",
    ")"
   ]
  },
  {
   "cell_type": "code",
   "execution_count": null,
   "metadata": {
    "jupyter": {
     "outputs_hidden": false
    }
   },
   "outputs": [],
   "source": [
    "linear_vqr_est = VectorQuantileRegressor(solver=linear_solver)\n",
    "\n",
    "linear_vqr_est.fit(X, Y)"
   ]
  },
  {
   "cell_type": "code",
   "execution_count": null,
   "metadata": {},
   "outputs": [],
   "source": [
    "nonlinear_vqr_est = VectorQuantileRegressor(solver=nonlinear_solver)\n",
    "\n",
    "nonlinear_vqr_est.fit(X, Y)"
   ]
  },
  {
   "cell_type": "markdown",
   "metadata": {},
   "source": [
    "# Sampling\n",
    "\n",
    "We can now, for e.g., sample from the fitted VQR and NL-VQR models for a given X."
   ]
  },
  {
   "cell_type": "code",
   "execution_count": null,
   "metadata": {},
   "outputs": [],
   "source": [
    "n_test = 4000\n",
    "\n",
    "# Generate conditional distributions for the below X's\n",
    "X_test = array([[2.0]])\n",
    "\n",
    "\n",
    "# Sample the ground-truth conditional distribution for X_test\n",
    "_, cond_Y_gt = data_provider.sample(n=n_test, x=X_test)\n",
    "cond_Y_gt = tensor(cond_Y_gt, dtype=dtype)\n",
    "kde_gt = kde(\n",
    "    cond_Y_gt,\n",
    "    grid_resolution=100,\n",
    "    device=device,\n",
    "    sigma=sigma,\n",
    ")\n",
    "\n",
    "# Sample from the estimated conditional distribution from VQR\n",
    "vqr_cond_Y_est = tensor(linear_vqr_est.sample(n=n_test, x=X_test), dtype=dtype)\n",
    "kde_est_vqr = kde(\n",
    "    vqr_cond_Y_est,\n",
    "    grid_resolution=100,\n",
    "    device=device,\n",
    "    sigma=sigma,\n",
    ")\n",
    "\n",
    "# Sample from the estimated conditional distribution from VQR\n",
    "nlvqr_cond_Y_est = tensor(nonlinear_vqr_est.sample(n=n_test, x=X_test), dtype=dtype)\n",
    "kde_est_nlvqr = kde(\n",
    "    nlvqr_cond_Y_est,\n",
    "    grid_resolution=100,\n",
    "    device=device,\n",
    "    sigma=sigma,\n",
    ")"
   ]
  },
  {
   "cell_type": "code",
   "execution_count": null,
   "metadata": {},
   "outputs": [],
   "source": [
    "fig, axes = plt.subplots(1, 3, figsize=(15, 5))\n",
    "for j in range(axes.shape[0]):\n",
    "    axes[j].set_xticklabels([])\n",
    "    axes[j].set_yticklabels([])\n",
    "axes[0].imshow(\n",
    "        kde_gt.T,\n",
    "        interpolation=\"bilinear\",\n",
    "        origin=\"lower\",\n",
    "        cmap=cm.RdPu,\n",
    "        extent=(0, 1, 0, 1),\n",
    "    )\n",
    "axes[0].set_title(\"Groundtruth\")\n",
    "axes[1].imshow(\n",
    "        kde_est_vqr.T,\n",
    "        interpolation=\"bilinear\",\n",
    "        origin=\"lower\",\n",
    "        cmap=cm.RdPu,\n",
    "        extent=(0, 1, 0, 1),\n",
    "    )\n",
    "axes[1].set_title(\"VQR\")\n",
    "axes[2].imshow(\n",
    "        kde_est_nlvqr.T,\n",
    "        interpolation=\"bilinear\",\n",
    "        origin=\"lower\",\n",
    "        cmap=cm.RdPu,\n",
    "        extent=(0, 1, 0, 1),\n",
    "    )\n",
    "axes[2].set_title(\"NL-VQR\");"
   ]
  },
  {
   "cell_type": "code",
   "execution_count": null,
   "metadata": {},
   "outputs": [],
   "source": []
  }
 ],
 "metadata": {
  "kernelspec": {
   "display_name": "",
   "language": "python",
   "name": ""
  },
  "language_info": {
   "codemirror_mode": {
    "name": "ipython",
    "version": 3
   },
   "file_extension": ".py",
   "mimetype": "text/x-python",
   "name": "python",
   "nbconvert_exporter": "python",
   "pygments_lexer": "ipython3",
   "version": "3.9.15"
  }
 },
 "nbformat": 4,
 "nbformat_minor": 4
}
